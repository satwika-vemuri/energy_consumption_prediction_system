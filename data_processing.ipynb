{
 "cells": [
  {
   "cell_type": "markdown",
   "metadata": {},
   "source": [
    "File to process Kaggle Dataset into usuable form for this project: https://www.kaggle.com/datasets/arashnic/building-sites-power-consumption-dataset"
   ]
  },
  {
   "cell_type": "code",
   "execution_count": null,
   "metadata": {},
   "outputs": [],
   "source": [
    "import pandas as pd\n",
    "\n",
    "energy_df = pd.read_csv('buildings_data\\power-laws-forecasting-energy-consumption-training-data.csv', sep=';')\n",
    "outdoor_temp_df = pd.read_csv('buildings_data\\power-laws-forecasting-energy-consumption-weather.csv', sep=';')\n",
    "base_temp_df = pd.read_csv('buildings_data\\power-laws-forecasting-energy-consumption-metadata.csv', sep=';')"
   ]
  },
  {
   "cell_type": "code",
   "execution_count": null,
   "metadata": {},
   "outputs": [],
   "source": [
    "# Currently not in use because one-to-one mapping exists!\n",
    "from datetime import datetime\n",
    "\n",
    "# Find the closest temperature given the current timestamp and the weather measurements\n",
    "# of a specific site\n",
    "MAX_DIFFERENCE = 12*60*60 # difference for half a day\n",
    "def findClosestTemp(time, weather_measurements):\n",
    "    curr_time = datetime.fromisoformat(time)\n",
    "    # initialize closest_time to the first timestamp\n",
    "    closest_time = datetime.fromisoformat(weather_measurements.iloc[0]['Timestamp'])\n",
    "    for index, row in weather_measurements.iterrows():\n",
    "        record_time = datetime.fromisoformat(row['Timestamp'])\n",
    "\n",
    "        # difference between current row and given time\n",
    "        record_diff = abs((record_time - curr_time).total_seconds()) \n",
    "        # difference between closest row and given time\n",
    "        closest_diff = abs((closest_time - curr_time).total_seconds())\n",
    "\n",
    "        # if the difference in the current row is less than the closest diff\n",
    "        # AKA if the timestamp in the current row is closer than all the other timestamps we have seen\n",
    "        if(record_diff < closest_diff):\n",
    "            closest_time = record_time\n",
    "\n",
    "    diff = abs((closest_time-curr_time).total_seconds())\n",
    "    if(diff > MAX_DIFFERENCE):\n",
    "        return \"\" # return empty string if closest temp is not within half a day\n",
    "    return closest_time"
   ]
  },
  {
   "cell_type": "code",
   "execution_count": null,
   "metadata": {},
   "outputs": [],
   "source": [
    "# keep track of rows to be added to new dataframe\n",
    "timestamps = []\n",
    "base_temps = []\n",
    "outdoor_temps = []\n",
    "energy_consumptions = []\n",
    "stop = False\n",
    "MAX_SIZE = 10000\n",
    "\n",
    "# concept: \n",
    "# go through energy_df by siteid \n",
    "# retrieve the weather measurements for that siteid from outdoor_temp_df (might be unsucessful if weather data doesn't exist for this site)\n",
    "# if step 2 successful\n",
    "     # add timestamp (energy_df), basetemp (base_temp_df), outdoor_temp (outdoor_temp_df), and energy_consumption (energy_df) to appropriate lists\n",
    "\n",
    "df_list = energy_df.groupby(energy_df['SiteId'])\n",
    "for item in df_list:\n",
    "    if(stop):\n",
    "        break\n",
    "    \n",
    "    e_df = item[1]\n",
    "    site_id = e_df.iloc[0]['SiteId']\n",
    "    bt = base_temp_df[base_temp_df['SiteId'] == site_id].iloc[0]['BaseTemperature']\n",
    "    weather_measurements = outdoor_temp_df[(outdoor_temp_df['SiteId'] == site_id)]\n",
    "    if(len(weather_measurements) > 0):\n",
    "        for index,row in e_df.iterrows():\n",
    "            if(stop):\n",
    "                break \n",
    "\n",
    "            time = row['Timestamp']\n",
    "            energy = row['Value']\n",
    "            corresponding_time = weather_measurements[weather_measurements['Timestamp'] == time]\n",
    "            if(len(corresponding_time) == 1): # we find a mapped measurement\n",
    "                ot = corresponding_time.iloc[0][\"Temperature\"] # retreive outdoor temp\n",
    "\n",
    "                # add data to arrays\n",
    "                timestamps.append(time)\n",
    "                base_temps.append(bt)\n",
    "                outdoor_temps.append(ot)\n",
    "                energy_consumptions.append(energy)\n",
    "\n",
    "                # cap our data\n",
    "                if(len(timestamps) > MAX_SIZE):\n",
    "                    stop = True\n",
    "                # print(\"base temp:\", str(bt), \"outdoor temp:\", str(ot), \"energy:\", str(energy))\n",
    "            \n",
    "# create new dataframe\n",
    "data = {'Timestamp':timestamps, 'IndoorTemperature':base_temps, 'OutdoorTemperature':outdoor_temps, 'EnergyConsumption':energy_consumptions}\n",
    "df = pd.DataFrame(data)"
   ]
  },
  {
   "cell_type": "code",
   "execution_count": 41,
   "metadata": {},
   "outputs": [
    {
     "name": "stdout",
     "output_type": "stream",
     "text": [
      "                   Timestamp  Temperature   Distance  SiteId\n",
      "0  2017-03-03T19:00:00+00:00         10.6  27.489346      51\n",
      "1  2017-03-03T19:20:00+00:00         11.0  28.663082      51\n",
      "2  2017-03-03T20:00:00+00:00          6.3  28.307039      51\n",
      "3  2017-03-03T21:55:00+00:00         10.0  29.797449      51\n",
      "4  2017-03-03T23:00:00+00:00          5.4  28.307039      51\n"
     ]
    }
   ],
   "source": [
    "print(outdoor_temp_df.head())"
   ]
  },
  {
   "cell_type": "code",
   "execution_count": 31,
   "metadata": {},
   "outputs": [],
   "source": [
    "# CAREFUL WHEN RUNNING THIS CODE! Might rewrite data\n",
    "df.to_csv('building_energy_data.csv')"
   ]
  }
 ],
 "metadata": {
  "kernelspec": {
   "display_name": "base",
   "language": "python",
   "name": "python3"
  },
  "language_info": {
   "codemirror_mode": {
    "name": "ipython",
    "version": 3
   },
   "file_extension": ".py",
   "mimetype": "text/x-python",
   "name": "python",
   "nbconvert_exporter": "python",
   "pygments_lexer": "ipython3",
   "version": "2022.5.undefined"
  }
 },
 "nbformat": 4,
 "nbformat_minor": 2
}
